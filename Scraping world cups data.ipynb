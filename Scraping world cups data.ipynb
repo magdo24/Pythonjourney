{
 "cells": [
  {
   "cell_type": "markdown",
   "metadata": {},
   "source": [
    "### Scraping data from all world cups"
   ]
  },
  {
   "cell_type": "code",
   "execution_count": 27,
   "metadata": {},
   "outputs": [],
   "source": [
    "# import packages \n",
    "import pandas as pd \n",
    "import numpy as np \n",
    "import seaborn as sns \n",
    "from bs4 import BeautifulSoup \n",
    "import requests "
   ]
  },
  {
   "cell_type": "code",
   "execution_count": 28,
   "metadata": {},
   "outputs": [],
   "source": [
    "def get_matches(year):\n",
    "    web = r'https://en.wikipedia.org/wiki/{}_FIFA_World_Cup'.format(year)\n",
    "    # A web browser request to the server \n",
    "    response = requests.get(web)\n",
    "    # Wikipedia webpages content\n",
    "    content = response.text\n",
    "    # Creating a Soup \n",
    "    soup = BeautifulSoup(content, 'lxml')\n",
    "    matches = soup.find_all('div', class_='footballbox')\n",
    "    \n",
    "    # Empty lists to iterate through them to get the data we want to scrape\n",
    "    home = []\n",
    "    score = []\n",
    "    away = []\n",
    "    total_goals = []\n",
    "    \n",
    "    for match in matches:\n",
    "        home.append(match.find('th', class_='fhome').get_text())\n",
    "        score.append(match.find('th', class_='fscore').get_text())\n",
    "        away.append(match.find('th', class_='faway').get_text())\n",
    "        \n",
    "        # this part provided to show that there are the result linked with a non-traditional result format like the matches extending to 120 mins\n",
    "        # or walkover [w/o] due to the withdrawl of a certain team considered a win for the team or player who received the walkover\n",
    "        score_str = score[-1].replace(' (a.e.t.)', '').replace('–', '-').replace('w/o[a]', '')\n",
    "        # remove white spaces\n",
    "        if not score_str.strip():\n",
    "            home_goals = 0\n",
    "            away_goals = 0\n",
    "        # Extracting goals scored by each team from the 'score' column     \n",
    "        else:\n",
    "            score_parts = score_str.split('-')\n",
    "            home_goals = int(score_parts[0])\n",
    "            away_goals = int(score_parts[1])\n",
    "        # Summing total goals scored in each match\n",
    "        total_goals.append(home_goals + away_goals)\n",
    "        # creating a Df\n",
    "        matches_dict = {'home': home, 'score': score, 'away': away, 'total_goals': total_goals}\n",
    "        matches_df = pd.DataFrame(matches_dict)\n",
    "        matches_df ['year'] = year  \n",
    "    return matches_df"
   ]
  },
  {
   "cell_type": "code",
   "execution_count": 5,
   "metadata": {},
   "outputs": [],
   "source": [
    "years = [1930, 1934, 1938, 1950, 1954, 1958, 1962, 1966, 1970, 1974,\n",
    "         1978, 1982, 1986, 1990, 1994, 1998, 2002, 2006, 2010, 2014,\n",
    "         2018]\n",
    "# results: historical data\n",
    "fifa = [get_matches(year) for year in years]\n",
    "fifa_wc_df = pd.concat(fifa, ignore_index=True)\n",
    "fifa_wc_df.to_csv(r\"D:\\data\\datasets\\fifa_worldcup_historical_data.csv\", index=False)\n",
    "Qatar2022 = get_matches(2022)\n",
    "Qatar2022.to_csv(r'D:\\data\\datasets\\Qatar2022.csv', index=False)"
   ]
  },
  {
   "cell_type": "code",
   "execution_count": 6,
   "metadata": {},
   "outputs": [
    {
     "data": {
      "text/html": [
       "<div>\n",
       "<style scoped>\n",
       "    .dataframe tbody tr th:only-of-type {\n",
       "        vertical-align: middle;\n",
       "    }\n",
       "\n",
       "    .dataframe tbody tr th {\n",
       "        vertical-align: top;\n",
       "    }\n",
       "\n",
       "    .dataframe thead th {\n",
       "        text-align: right;\n",
       "    }\n",
       "</style>\n",
       "<table border=\"1\" class=\"dataframe\">\n",
       "  <thead>\n",
       "    <tr style=\"text-align: right;\">\n",
       "      <th></th>\n",
       "      <th>home</th>\n",
       "      <th>score</th>\n",
       "      <th>away</th>\n",
       "      <th>total_goals</th>\n",
       "      <th>year</th>\n",
       "    </tr>\n",
       "  </thead>\n",
       "  <tbody>\n",
       "    <tr>\n",
       "      <th>0</th>\n",
       "      <td>Qatar</td>\n",
       "      <td>0–2</td>\n",
       "      <td>Ecuador</td>\n",
       "      <td>2</td>\n",
       "      <td>2022</td>\n",
       "    </tr>\n",
       "    <tr>\n",
       "      <th>1</th>\n",
       "      <td>Senegal</td>\n",
       "      <td>0–2</td>\n",
       "      <td>Netherlands</td>\n",
       "      <td>2</td>\n",
       "      <td>2022</td>\n",
       "    </tr>\n",
       "    <tr>\n",
       "      <th>2</th>\n",
       "      <td>Qatar</td>\n",
       "      <td>1–3</td>\n",
       "      <td>Senegal</td>\n",
       "      <td>4</td>\n",
       "      <td>2022</td>\n",
       "    </tr>\n",
       "    <tr>\n",
       "      <th>3</th>\n",
       "      <td>Netherlands</td>\n",
       "      <td>1–1</td>\n",
       "      <td>Ecuador</td>\n",
       "      <td>2</td>\n",
       "      <td>2022</td>\n",
       "    </tr>\n",
       "    <tr>\n",
       "      <th>4</th>\n",
       "      <td>Ecuador</td>\n",
       "      <td>1–2</td>\n",
       "      <td>Senegal</td>\n",
       "      <td>3</td>\n",
       "      <td>2022</td>\n",
       "    </tr>\n",
       "  </tbody>\n",
       "</table>\n",
       "</div>"
      ],
      "text/plain": [
       "           home score          away  total_goals  year\n",
       "0        Qatar    0–2       Ecuador            2  2022\n",
       "1      Senegal    0–2   Netherlands            2  2022\n",
       "2        Qatar    1–3       Senegal            4  2022\n",
       "3  Netherlands    1–1       Ecuador            2  2022\n",
       "4      Ecuador    1–2       Senegal            3  2022"
      ]
     },
     "execution_count": 6,
     "metadata": {},
     "output_type": "execute_result"
    }
   ],
   "source": [
    "Qatar2022.head()"
   ]
  }
 ],
 "metadata": {
  "kernelspec": {
   "display_name": "Python 3",
   "language": "python",
   "name": "python3"
  },
  "language_info": {
   "codemirror_mode": {
    "name": "ipython",
    "version": 3
   },
   "file_extension": ".py",
   "mimetype": "text/x-python",
   "name": "python",
   "nbconvert_exporter": "python",
   "pygments_lexer": "ipython3",
   "version": "3.7.0"
  }
 },
 "nbformat": 4,
 "nbformat_minor": 2
}
