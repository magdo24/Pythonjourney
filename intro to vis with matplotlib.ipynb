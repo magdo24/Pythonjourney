{
 "cells": [
  {
   "cell_type": "markdown",
   "metadata": {},
   "source": [
    "### Intro to Data vis with Matplotlib "
   ]
  },
  {
   "cell_type": "code",
   "execution_count": null,
   "metadata": {},
   "outputs": [],
   "source": [
    "# import course packages\n",
    "import pandas as pd \n",
    "import matplotlib.pyplot as plt\n",
    "import datetime as dt\n",
    "%matplotlib inline\n",
    "# importing datasets\n",
    "weather = pd.read_csv('D:\\data\\datasets\\seattle_weather.csv',index_col='DATE')\n",
    "seattle_weather = weather[weather['NAME'] == 'SEATTLE SAND PT WSFO, WA US']\n",
    "austin_weather = pd.read_csv(r'D:\\data\\datasets\\austin_weather.csv',index_col='DATE')\n",
    "climate = pd.read_csv(r'D:\\data\\datasets\\climate_change.csv',index_col = 'date',parse_dates=['date']) #DateTime index\n",
    "medals = pd.read_csv(r'D:\\data\\datasets\\medals_by_country_2016.csv', index_col = 0)\n",
    "athletes = pd.read_csv(r'D:\\data\\datasets\\summer2016.csv', index_col = 0)\n",
    "# derived from athletes DF \n",
    "mens_gymnastics = athletes [ athletes['Sport'] == 'Gymnastics' ]\n",
    "mens_rowing = athletes [athletes['Sport'] == 'Rowing' ]  "
   ]
  },
  {
   "cell_type": "code",
   "execution_count": null,
   "metadata": {},
   "outputs": [],
   "source": [
    "month = [\"Jan\", \"Feb\", \"Mar\", \"Apr\", \"May\", \"Jun\", \"Jul\", \"Aug\", \"Sep\", \"Oct\", \"Nov\", \"Dec\"] \n",
    "austin_weather ['MONTH'] = month\n",
    "seattle_weather['MONTH'] = month"
   ]
  },
  {
   "cell_type": "code",
   "execution_count": null,
   "metadata": {},
   "outputs": [],
   "source": [
    "# figure and axes objects\n",
    "fig, ax = plt.subplots()\n",
    "# add data with Axes\n",
    "# additional vertical markers (Standard deviation) \n",
    "ax.plot(austin_weather[\"MONTH\"], austin_weather[\"MLY-PRCP-NORMAL\"], color = 'b', marker = 'v',linestyle = '-.')\n",
    "ax.plot(seattle_weather[\"MONTH\"], seattle_weather[\"MLY-PRCP-NORMAL\"],color = 'y', marker = 'o',linestyle = 'solid')\n",
    "#customizing Data apperance\n",
    "ax.set_xlabel('Time (months)')\n",
    "ax.set_ylabel('Precipitation (inches)')\n",
    "ax.set_title('Weather patterns in Austin and Seattle')\n",
    "plt.figure(figsize=(8,6))\n",
    "plt.show()"
   ]
  },
  {
   "cell_type": "code",
   "execution_count": null,
   "metadata": {},
   "outputs": [],
   "source": [
    "# additional vertical markers (Standard deviation) \n",
    "fig, ax = plt.subplots()\n",
    "ax.errorbar(seattle_weather['MONTH'], seattle_weather['MLY-TAVG-NORMAL'], yerr = seattle_weather ['MLY-TAVG-STDDEV'], label = 'Seattle')\n",
    "ax.errorbar(austin_weather['MONTH'], austin_weather['MLY-TAVG-NORMAL'], yerr = austin_weather ['MLY-TAVG-STDDEV'], label = 'Austin')\n",
    "ax.set_ylabel('Temperatue (Fahrenheit)')\n",
    "ax.legend()\n",
    "plt.show()"
   ]
  },
  {
   "cell_type": "markdown",
   "metadata": {},
   "source": [
    "### changing plot style\n",
    " **Change fonts, line colors, backgroud color, grid, ...**\n",
    " -  ggplot\n",
    " - dark_background\n",
    " - fivethirtyeight \n",
    " - grayscale\n",
    " - Solarize_Light2\n",
    " - bmh\n",
    " - seaborn-colorblind\n",
    " \n",
    "#### How to choose the suitable style ?\n",
    "- **if to communicate with others, then** \n",
    "    - Dark backgrounds are not preferrable due to the less visibility. \n",
    "- **if color is important, then :** \n",
    "    - Choose colorblind-friendly options ('seaborn-colorblind' or 'tableau-colorblind10')\n",
    "    - it's designed to retain color even if viewed by a colorblind individual (1 out of 20)\n",
    "- **if it's for printed reports use less ink:** \n",
    "    - Avoid colored backgrounds like (ggplot)\n",
    "    - if it gonna be printed in black & white use (grayscale)"
   ]
  },
  {
   "cell_type": "code",
   "execution_count": null,
   "metadata": {},
   "outputs": [],
   "source": [
    "# changing plot style \n",
    "plt.style.use('bmh') \n",
    "# The ggplot library from R:added gray back ground that create a faint white grid, changing color, fonts\n",
    "fig, ax = plt.subplots()\n",
    "ax.plot(seattle_weather['MONTH'], seattle_weather['MLY-TAVG-NORMAL'], label = 'Seattle')\n",
    "ax.plot(austin_weather['MONTH'], austin_weather['MLY-TAVG-NORMAL'], label = 'Austin')\n",
    "ax.set_title ('Monthly average Temperature by state')\n",
    "# remove gridlines, axes, ticks\n",
    "ax.grid(False)\n",
    "ax.tick_params(left = False, bottom = False)\n",
    "# To remove ticklabels too \n",
    "# kwargs as inputs inside tick_params() method as : labelleft = False , labelbottom = False\n",
    "ax.legend()\n",
    "plt.show()"
   ]
  },
  {
   "cell_type": "code",
   "execution_count": null,
   "metadata": {},
   "outputs": [],
   "source": [
    "## adding more data\n",
    "fig, ax = plt.subplots()\n",
    "ax.plot(seattle_weather[\"MONTH\"], seattle_weather[\"MLY-PRCP-25PCTL\"],color = 'y',linestyle = '--')\n",
    "ax.plot(seattle_weather[\"MONTH\"], seattle_weather[\"MLY-PRCP-NORMAL\"],color = 'y',linestyle = 'solid')\n",
    "ax.plot(seattle_weather[\"MONTH\"], seattle_weather[\"MLY-PRCP-75PCTL\"],color = 'y',linestyle = '--')\n",
    "plt.show()"
   ]
  },
  {
   "cell_type": "code",
   "execution_count": null,
   "metadata": {},
   "outputs": [],
   "source": [
    "# creating a grid of subplots (small multiples: side by side)\n",
    "# special case: a row aarray or column array (single-indexed)\n",
    "fig, ax = plt.subplots(2, 1, sharey=True)\n",
    "# seattle percipitation data\n",
    "ax[0].plot(seattle_weather[\"MONTH\"], seattle_weather[\"MLY-PRCP-25PCTL\"],color = 'b',linestyle = '--', label = 'Seattle')\n",
    "ax[0].plot(seattle_weather[\"MONTH\"], seattle_weather[\"MLY-PRCP-NORMAL\"],color = 'b',linestyle = 'solid', label = 'Seattle')\n",
    "ax[0].plot(seattle_weather[\"MONTH\"], seattle_weather[\"MLY-PRCP-75PCTL\"],color = 'b',linestyle = '--', label = 'Seattle')\n",
    "#Austin percipitation data\n",
    "ax[1].plot(austin_weather[\"MONTH\"], austin_weather[\"MLY-PRCP-25PCTL\"],color = 'r',linestyle = '--', label = 'Austin')\n",
    "ax[1].plot(austin_weather[\"MONTH\"], austin_weather[\"MLY-PRCP-NORMAL\"],color = 'r',linestyle = 'solid', label = 'Austin')\n",
    "ax[1].plot(austin_weather[\"MONTH\"], austin_weather[\"MLY-PRCP-75PCTL\"],color = 'r',linestyle = '--', label = 'Austin')\n",
    "ax[0].set_ylabel('Precipitation (inches)')\n",
    "ax[1].set_ylabel('Precipitation (inches)')\n",
    "ax[1].set_xlabel('Time (months)')\n",
    "# adding legends (labels)\n",
    "ax[0].legend()\n",
    "ax[1].legend()\n",
    "plt.show()"
   ]
  },
  {
   "cell_type": "code",
   "execution_count": null,
   "metadata": {},
   "outputs": [],
   "source": [
    "# plotting time-series data \n",
    "fig, ax = plt.subplots()\n",
    "ax.plot(climate.index, climate['co2'])\n",
    "ax.set_xlabel('Time')\n",
    "ax.set_ylabel('Co2 (ppm)')\n",
    "plt.show()"
   ]
  },
  {
   "cell_type": "code",
   "execution_count": null,
   "metadata": {},
   "outputs": [],
   "source": [
    "fig, ax = plt.subplots()\n",
    "# zooming in a decade\n",
    "# sixties = pd.DataFrame(pd.date_range ('1959-01-01',periods = 11, freq='Y'))\n",
    "sixties = climate ['1960-01-01':'1969-12-31'] \n",
    "ax.plot(sixties.index,sixties['co2'])\n",
    "ax.set_xlabel('Time')\n",
    "ax.set_ylabel('Co2 (ppm)')\n",
    "plt.show()\n"
   ]
  },
  {
   "cell_type": "code",
   "execution_count": null,
   "metadata": {},
   "outputs": [],
   "source": [
    "# zooming in 1969 \n",
    "sixty_nine = climate ['1969-01-01':'1969-12-31']\n",
    "fig, ax = plt.subplots()\n",
    "ax.plot(sixty_nine.index,sixty_nine['co2'])\n",
    "ax.set_xlabel('Time')\n",
    "ax.set_ylabel('Co2 (ppm)')\n",
    "plt.show()"
   ]
  },
  {
   "cell_type": "code",
   "execution_count": null,
   "metadata": {},
   "outputs": [],
   "source": [
    "# plotting time-series with different vars (Co2 level and relative temp)\n",
    "fig ,ax = plt.subplots()\n",
    "ax.plot(climate.index, climate['co2'])\n",
    "ax.plot(climate.index, climate['relative_temp'])\n",
    "ax.set_xlabel('Time')\n",
    "ax.set_ylabel('CO2 (ppm) / Relative temperature')\n",
    "plt.show()"
   ]
  },
  {
   "cell_type": "markdown",
   "metadata": {},
   "source": [
    "- **note: Two different scales therefore the 'CO2' level columns has been shifted upward while the 'relative_temp' column looks like it is flat (not accurate).**\n",
    "- **We need to plot them in the same subplot but with different y-axis scales but they share the x-axis.**"
   ]
  },
  {
   "cell_type": "code",
   "execution_count": null,
   "metadata": {},
   "outputs": [],
   "source": [
    "# using twin axes methods\n",
    "fig, ax = plt.subplots()\n",
    "ax.plot(climate.index, climate['co2'], color = 'b')\n",
    "ax.set_xlabel('Time')\n",
    "ax.set_ylabel('CO2 (ppm)', color = 'b')\n",
    "ax.tick_params('y', colors = 'b')\n",
    "ax2 = ax.twinx()\n",
    "ax2.plot(climate.index, climate['relative_temp'], color = 'red')\n",
    "ax2.set_ylabel('Relative temperature (Celsius)', color = 'red')\n",
    "ax2.tick_params('y', colors = 'r')\n",
    "plt.show()"
   ]
  },
  {
   "cell_type": "code",
   "execution_count": null,
   "metadata": {},
   "outputs": [],
   "source": [
    "# customized func to plot time series \n",
    "def plot_timeseries (axes, x, y, color, xlabel, ylabel):\n",
    "    axes.plot(x, y, color = color)\n",
    "    axes.set_xlabel(xlabel)\n",
    "    axes.set_ylabel(ylabel, color = color)\n",
    "    axes.tick_params('y', colors = color)"
   ]
  },
  {
   "cell_type": "code",
   "execution_count": null,
   "metadata": {},
   "outputs": [],
   "source": [
    "# using our function \n",
    "fig, ax =plt.subplots() \n",
    "plot_timeseries(ax, climate.index, climate['co2'], 'blue', 'Time', 'CO2 (ppm)')\n",
    "ax2 = ax.twinx() \n",
    "plot_timeseries(ax2, climate.index, climate['relative_temp'], 'red','Time', 'Relative temperature (Celsius)')\n",
    "# annotating time-series data: a partiular part of plot that we want to focus on \n",
    "# xy : coordinates of the annotating data, xytext: positioning the text (suitable optional position), \n",
    "# and arrowprops: can be {} empty dict or customized   \n",
    "ax2.annotate(' > 1 degree ', xy= (pd.Timestamp(\"2015-10-06\"),1), xytext = (pd.Timestamp('2008-10-06'),-0.2), arrowprops={'arrowstyle':'->','color':'black'})\n",
    "plt.show()"
   ]
  },
  {
   "cell_type": "code",
   "execution_count": null,
   "metadata": {},
   "outputs": [],
   "source": [
    "# ch3: Quantitative comparisons\n",
    "# bar charts used for categorical vars with numerical values in different conitions and can be stacked on top of each other\n",
    "gold_medals = medals.sort_values('Gold', ascending = False)\n",
    "fig, ax = plt.subplots()\n",
    "ax.bar(gold_medals.index,gold_medals['Gold'], color = 'yellow', alpha=0.7)\n",
    "# prevent overlapping in x-axis labels\n",
    "ax.set_xticklabels(gold_medals.index,rotation = 90)\n",
    "ax.set_ylabel('Gold medals')\n",
    "plt.show()"
   ]
  },
  {
   "cell_type": "markdown",
   "metadata": {},
   "source": [
    "### saving the figure to the file: \n",
    "- different file formats such as :\n",
    "    - png: provides lossless compression of image, it means it is high quality and needs larger bandwidth or diskspace.\n",
    "    - jpg: \n",
    "        - provides a lossy compression, needs less diskspace and u can set the degree of loss by setting quality = [1:100]\n",
    "        - best for websites/sharing use.\n",
    "    - svg: vector graphics file for more editing on grapghics softwares. \n",
    "    - **dpi kwarg: represents the dots/inch 300 is a fairly high-reolution quality, (the higher, the more size you'll need)**\n",
    "    "
   ]
  },
  {
   "cell_type": "code",
   "execution_count": null,
   "metadata": {},
   "outputs": [],
   "source": [
    "# preparing for sharing with others\n",
    "fig, ax = plt.subplots()\n",
    "ax.bar(gold_medals.index,medals['Gold'], color = 'yellow', alpha=0.7)\n",
    "# prevent overlapping in x-axis labels\n",
    "ax.set_xticklabels(medals.index,rotation = 270)\n",
    "ax.set_ylabel('Gold medals')\n",
    "ax.set_title('The Best 2016')\n",
    "# figure object (set_size_inches)\n",
    "fig.set_size_inches([6,8])\n",
    "#saving the figure\n",
    "fig.savefig('The Best 2016.png', dpi = 300)\n",
    "fig.savefig('The Best 2016.jpg', quality = 50)\n",
    "fig.savefig('The Best 2016.svg')"
   ]
  },
  {
   "cell_type": "code",
   "execution_count": null,
   "metadata": {},
   "outputs": [],
   "source": [
    "# stacked bar charts : all in one\n",
    "# legend method requires label kwarg in the bar method of axes object\n",
    "fig, ax = plt.subplots()\n",
    "ax.bar(medals.index, medals ['Gold'], label = 'Gold')\n",
    "ax.bar(medals.index, medals ['Silver'], bottom = medals ['Gold'], label = 'Silver')\n",
    "ax.bar(medals.index, medals ['Bronze'], bottom = medals ['Gold'] + medals ['Silver'], label = 'Bronze' )\n",
    "ax.set_xticklabels(medals.index, rotation=90)\n",
    "ax.set_ylabel('Olympic medals')\n",
    "ax.legend()\n",
    "plt.show()"
   ]
  },
  {
   "cell_type": "code",
   "execution_count": null,
   "metadata": {},
   "outputs": [],
   "source": [
    "fig, ax = plt.subplots()\n",
    "# additional vertical markers to summarize the full distribution in one number (Standard deviation).\n",
    "ax.bar('Rowing',mens_rowing['Height'].mean(), yerr = mens_rowing['Height'].std())\n",
    "ax.bar('Gymnastics', mens_gymnastics['Height'].mean(), yerr = mens_gymnastics['Height'].std())\n",
    "ax.set_ylabel('Height (Cm)')\n",
    "plt.show()"
   ]
  },
  {
   "cell_type": "code",
   "execution_count": null,
   "metadata": {},
   "outputs": [],
   "source": [
    "# adding boxplots(statistical plotting) : \n",
    "# it shows us the distribrution in a kroky abbreviated way (5 num summary), it takes a list i/p\n",
    "# 99% of data should be included in if the distribution is guassian or normal \n",
    "fig, ax = plt.subplots()\n",
    "ax.boxplot([mens_rowing['Height'], mens_gymnastics['Height']])\n",
    "ax.set_ylabel('Height (Cm)')\n",
    "ax.set_xticklabels(['Rowing','Gymnastics'], rotation = 90)\n",
    "plt.show()"
   ]
  },
  {
   "cell_type": "code",
   "execution_count": null,
   "metadata": {},
   "outputs": [],
   "source": [
    "# histogram is for the entire distribution of values within a variable\n",
    "# x is the range of values for a variable, y is the frequency of certain values divided in intervals\n",
    "# deafult # of bins is ten also, we can set bins = [val1,val2,val3,....] = n-1 or bins = integer\n",
    "# sometimes we need to eliminate the hist type to 'step' rather than the deafult solid 'bar' type ...\n",
    "# ... to show the hidden distribution of interest or to change alpha to lowervalue than deafult one\n",
    "fig, ax = plt.subplots()\n",
    "ax.hist(mens_rowing['Height'], label = 'Rowers', bins = [150,160,170,180,190,200,210], histtype = 'step')\n",
    "ax.hist(mens_gymnastics['Height'], label = 'Gymnasts', bins = 5, histtype = 'step')\n",
    "ax.set_xlabel('Height (Cm)')\n",
    "ax.set_ylabel('fequency')\n",
    "ax.legend()\n",
    "plt.show()"
   ]
  },
  {
   "cell_type": "markdown",
   "metadata": {},
   "source": [
    "- **Statistical plotting : a set of methods to use visualization to make comparisons and how can make them look more formal**\n",
    "- **Adding error bars to bar/line charts: There are 'yerr' or 'xerr' depending on the case of variable on which of them** \n",
    "- **'yerr' or 'xerr' kwarg in the plot command can take a column of 'STDDEV' values or through .std() method on a column** \n",
    "- **To summarize the distribution in one number (std) rather than the entire distribution using histogram**\n",
    "- **or adding boxplots**"
   ]
  },
  {
   "cell_type": "code",
   "execution_count": null,
   "metadata": {},
   "outputs": [],
   "source": [
    "# bar charts : shows us the value of one variable in diff conditions\n",
    "# Scatter plots : compare bet diff variables across obsservations (Bi-variate comparisons)\n",
    "fig, ax = plt.subplots()\n",
    "ax.scatter(climate['co2'], climate['relative_temp'])\n",
    "ax.set_xlabel('CO2 (ppm)')\n",
    "ax.set_ylabel('Relative temperature (Celsisus)')\n",
    "plt.show()"
   ]
  },
  {
   "cell_type": "code",
   "execution_count": null,
   "metadata": {},
   "outputs": [],
   "source": [
    "# encoding a third variable (DF time index) by a color\n",
    "# time of the measurments is encoded in the brightness of the color\n",
    "fig, ax = plt.subplots()\n",
    "ax.scatter(climate['co2'], climate['relative_temp'], c = climate.index)\n",
    "ax.set_xlabel('CO2 (ppm)')\n",
    "ax.set_ylabel('Relative temperature (Celsisus)')\n",
    "plt.show()"
   ]
  },
  {
   "cell_type": "code",
   "execution_count": null,
   "metadata": {},
   "outputs": [],
   "source": [
    "# customizing scatter plots  : time-series indexing\n",
    "eighties = climate [\"1980-01-01\":\"1989-12-31\"]\n",
    "nineties = climate ['1990-01-01': '1999-12-31'] \n",
    "fig, ax = plt.subplots()\n",
    "# Encoding a comparison by color \n",
    "ax.scatter(eighties ['co2'], eighties ['relative_temp'], label = '80s', color = 'r')\n",
    "ax.scatter(nineties ['co2'], nineties ['relative_temp'], label = '90s', color = 'b')\n",
    "ax.set_xlabel('CO2 levels')\n",
    "ax.set_ylabel ('Relative temp (Celsius)')\n",
    "ax.legend()\n",
    "plt.show()"
   ]
  },
  {
   "cell_type": "markdown",
   "metadata": {},
   "source": [
    "### Automating figure from data \n",
    "- provides flexibility to adapt to new inputs provided. \n",
    "- This ensures : flexibility, reproducibility, robustness ,ease and speed."
   ]
  },
  {
   "cell_type": "code",
   "execution_count": null,
   "metadata": {},
   "outputs": [],
   "source": [
    "sports = athletes['Sport'].unique()\n",
    "fig, ax = plt.subplots()\n",
    "for sport in sports : \n",
    "    sport_df = athletes [athletes[\"Sport\"] == sport]\n",
    "    ax.bar(sport, sport_df['Height'].mean(), yerr = sport_df['Height'].std())\n",
    "ax.set_ylabel('Height (Cm)')\n",
    "ax.set_xticklabels(sports, rotation = 90)\n",
    "fig.set_size_inches([10,8])\n",
    "plt.show()"
   ]
  }
 ],
 "metadata": {
  "kernelspec": {
   "display_name": "Python 3",
   "language": "python",
   "name": "python3"
  },
  "language_info": {
   "codemirror_mode": {
    "name": "ipython",
    "version": 3
   },
   "file_extension": ".py",
   "mimetype": "text/x-python",
   "name": "python",
   "nbconvert_exporter": "python",
   "pygments_lexer": "ipython3",
   "version": "3.7.0"
  }
 },
 "nbformat": 4,
 "nbformat_minor": 2
}
